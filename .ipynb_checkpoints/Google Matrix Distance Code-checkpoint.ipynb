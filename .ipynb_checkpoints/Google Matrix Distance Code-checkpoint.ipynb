{
 "cells": [
  {
   "cell_type": "code",
   "execution_count": null,
   "metadata": {},
   "outputs": [],
   "source": [
    "#import all the things\n",
    "import pandas as pd\n",
    "import json\n",
    "import urlopen from urllib2 as req\n",
    "import os\n",
    "import datetime from datetime as dt\n",
    "import strftime from datetime as sft\n",
    "\n",
    "#put the api key here\n",
    "key = 'APIKEYGOESHERE'\n",
    "\n",
    "#origin is set here\n",
    "origins = 'Canberra+ACT'\n",
    "\n",
    "#read list of destinations to a dataframe with 3 columns\n",
    "names = ['Destination', 'Duration', \"Distance\"]\n",
    "df = pd.read('destinations.xlsx', skiprows = 1, names = names)\n",
    " \n",
    "#iterate through the locations, sending the request and capturing the response\n",
    "#note it may be more inefficient doing it this way - but this gets around the maximum combinations per request\n",
    "#and requests are billed per combination, not per request i.e. it costs the same\n",
    "for index, row in df.iterrows():\n",
    "    destinations = row[\"Destination\"].str.replace(' ', '+')\n",
    "    matrix = \"origins=\" + origins + \"&destinations=\" + destinations\n",
    "    url = \"https://maps.googleapis.com/maps/api/distancematrix/json?\" + matrix + \"&units=metric&key=\" + key\n",
    "    \n",
    "    #make the request and parse the result to python datastructure (lists and dictionaries)\n",
    "    response = req(url)\n",
    "    parsed = json.loads(response)\n",
    "    \n",
    "    #extract the duration and distance data and add to the destination record\n",
    "    df.loc[row, 'Duration'] = parsed[\"rows\"][\"elements\"][\"duration\"][\"text\"]\n",
    "    df.loc[row, 'Distance'] = parsed[\"rows\"][\"elements\"][\"distance\"][\"value\"]/1000\n",
    "\n",
    "#export the data to a csv file  \n",
    "fileName = 'Distance-Matrix-Output_' + dt.now().sft(\"%Y-%m%d_%H-%M\") \n",
    "df.to_csv(os.path.join(sys.path[0],fileName), header=names, index=False)"
   ]
  },
  {
   "cell_type": "code",
   "execution_count": 2,
   "metadata": {
    "scrolled": true
   },
   "outputs": [
    {
     "ename": "TypeError",
     "evalue": "the JSON object must be str, bytes or bytearray, not dict",
     "output_type": "error",
     "traceback": [
      "\u001b[1;31m---------------------------------------------------------------------------\u001b[0m",
      "\u001b[1;31mTypeError\u001b[0m                                 Traceback (most recent call last)",
      "\u001b[1;32m<ipython-input-2-4cc4ca77ce43>\u001b[0m in \u001b[0;36m<module>\u001b[1;34m()\u001b[0m\n\u001b[0;32m     52\u001b[0m }\n\u001b[0;32m     53\u001b[0m \u001b[1;33m\u001b[0m\u001b[0m\n\u001b[1;32m---> 54\u001b[1;33m \u001b[0mparsed\u001b[0m \u001b[1;33m=\u001b[0m \u001b[0mjson\u001b[0m\u001b[1;33m.\u001b[0m\u001b[0mloads\u001b[0m\u001b[1;33m(\u001b[0m\u001b[0mdata\u001b[0m\u001b[1;33m)\u001b[0m\u001b[1;33m\u001b[0m\u001b[0m\n\u001b[0m\u001b[0;32m     55\u001b[0m \u001b[0mprint\u001b[0m\u001b[1;33m(\u001b[0m\u001b[0mparsed\u001b[0m\u001b[1;33m)\u001b[0m\u001b[1;33m\u001b[0m\u001b[0m\n",
      "\u001b[1;32m~\\Anaconda3\\lib\\json\\__init__.py\u001b[0m in \u001b[0;36mloads\u001b[1;34m(s, encoding, cls, object_hook, parse_float, parse_int, parse_constant, object_pairs_hook, **kw)\u001b[0m\n\u001b[0;32m    339\u001b[0m     \u001b[1;32melse\u001b[0m\u001b[1;33m:\u001b[0m\u001b[1;33m\u001b[0m\u001b[0m\n\u001b[0;32m    340\u001b[0m         \u001b[1;32mif\u001b[0m \u001b[1;32mnot\u001b[0m \u001b[0misinstance\u001b[0m\u001b[1;33m(\u001b[0m\u001b[0ms\u001b[0m\u001b[1;33m,\u001b[0m \u001b[1;33m(\u001b[0m\u001b[0mbytes\u001b[0m\u001b[1;33m,\u001b[0m \u001b[0mbytearray\u001b[0m\u001b[1;33m)\u001b[0m\u001b[1;33m)\u001b[0m\u001b[1;33m:\u001b[0m\u001b[1;33m\u001b[0m\u001b[0m\n\u001b[1;32m--> 341\u001b[1;33m             raise TypeError(f'the JSON object must be str, bytes or bytearray, '\n\u001b[0m\u001b[0;32m    342\u001b[0m                             f'not {s.__class__.__name__}')\n\u001b[0;32m    343\u001b[0m         \u001b[0ms\u001b[0m \u001b[1;33m=\u001b[0m \u001b[0ms\u001b[0m\u001b[1;33m.\u001b[0m\u001b[0mdecode\u001b[0m\u001b[1;33m(\u001b[0m\u001b[0mdetect_encoding\u001b[0m\u001b[1;33m(\u001b[0m\u001b[0ms\u001b[0m\u001b[1;33m)\u001b[0m\u001b[1;33m,\u001b[0m \u001b[1;34m'surrogatepass'\u001b[0m\u001b[1;33m)\u001b[0m\u001b[1;33m\u001b[0m\u001b[0m\n",
      "\u001b[1;31mTypeError\u001b[0m: the JSON object must be str, bytes or bytearray, not dict"
     ]
    }
   ],
   "source": []
  }
 ],
 "metadata": {
  "kernelspec": {
   "display_name": "Python 3",
   "language": "python",
   "name": "python3"
  },
  "language_info": {
   "codemirror_mode": {
    "name": "ipython",
    "version": 3
   },
   "file_extension": ".py",
   "mimetype": "text/x-python",
   "name": "python",
   "nbconvert_exporter": "python",
   "pygments_lexer": "ipython3",
   "version": "3.7.0"
  }
 },
 "nbformat": 4,
 "nbformat_minor": 2
}
